{
  "nbformat": 4,
  "nbformat_minor": 0,
  "metadata": {
    "colab": {
      "name": "DijkstrasAndAstar.ipynb",
      "provenance": [],
      "collapsed_sections": [],
      "include_colab_link": true
    },
    "kernelspec": {
      "display_name": "Python 3",
      "language": "python",
      "name": "python3"
    }
  },
  "cells": [
    {
      "cell_type": "markdown",
      "metadata": {
        "id": "view-in-github",
        "colab_type": "text"
      },
      "source": [
        "<a href=\"https://colab.research.google.com/github/ronaldran97/CS4200/blob/master/DijkstrasAndAstar.ipynb\" target=\"_parent\"><img src=\"https://colab.research.google.com/assets/colab-badge.svg\" alt=\"Open In Colab\"/></a>"
      ]
    },
    {
      "cell_type": "markdown",
      "metadata": {
        "id": "MsaqdVYhL6D5",
        "colab_type": "text"
      },
      "source": [
        "In this assignment, we will be doing pathfinding using Dijkstra's and A* .  You are provided some starter code below, but the implementation will be up to you. Feel free to create your own sample maps, but you should ensure that your output looks like the final output below.\n",
        "\n",
        "##In this assignment you will:\n",
        "\n",
        "* Parse a data file to create a representation of a world-space\n",
        "* Implement functions that operate over this representation: telling your algorithms how to navigate this space, how to estimate costs over this space, and how to determine when a goal has been reached in this space\n",
        "* Implement Dijkstra's (an algorithm for finding the optimal path through a graph) search and A* search (a modification of Dijkstra's that utilizes heuristics to speed up the search, while still guaranteeing optimality)\n",
        "\n",
        "##The goal of this assignment is for you to understand:\n",
        "\n",
        "* How to read in a data file and produce a representation of the world such that you can generically solve a search problem\n",
        "* How to implement two basic search algorithms, Dijkstra's and A*\n",
        "* The differences between Dijkstra's and A*, and why A* is going to be faster than Dijkstra's"
      ]
    },
    {
      "cell_type": "markdown",
      "metadata": {
        "id": "erF0QNtDL6D6",
        "colab_type": "text"
      },
      "source": [
        "First we will load the map into a grid called: terrain\n",
        "\n",
        "We first use wget to download the file"
      ]
    },
    {
      "cell_type": "code",
      "metadata": {
        "id": "lcEFb45yL6D8",
        "colab_type": "code",
        "colab": {
          "base_uri": "https://localhost:8080/",
          "height": 202
        },
        "outputId": "48c46128-1e89-4280-98e4-1506259ab5cd"
      },
      "source": [
        "!wget http://modelai.gettysburg.edu/2019/minecraft/Pathfinding/terrain.txt"
      ],
      "execution_count": null,
      "outputs": [
        {
          "output_type": "stream",
          "text": [
            "--2020-08-31 20:22:27--  http://modelai.gettysburg.edu/2019/minecraft/Pathfinding/terrain.txt\n",
            "Resolving modelai.gettysburg.edu (modelai.gettysburg.edu)... 138.234.44.8\n",
            "Connecting to modelai.gettysburg.edu (modelai.gettysburg.edu)|138.234.44.8|:80... connected.\n",
            "HTTP request sent, awaiting response... 200 OK\n",
            "Length: 490 [text/plain]\n",
            "Saving to: ‘terrain.txt’\n",
            "\n",
            "\rterrain.txt           0%[                    ]       0  --.-KB/s               \rterrain.txt         100%[===================>]     490  --.-KB/s    in 0s      \n",
            "\n",
            "2020-08-31 20:22:27 (65.9 MB/s) - ‘terrain.txt’ saved [490/490]\n",
            "\n"
          ],
          "name": "stdout"
        }
      ]
    },
    {
      "cell_type": "markdown",
      "metadata": {
        "id": "DebXEpiNW0tk",
        "colab_type": "text"
      },
      "source": [
        "Now we read from the file"
      ]
    },
    {
      "cell_type": "code",
      "metadata": {
        "id": "Yv2vMnhANYuj",
        "colab_type": "code",
        "colab": {
          "base_uri": "https://localhost:8080/",
          "height": 185
        },
        "outputId": "25e0996d-362d-4866-a4e2-b0ee6afdd7b8"
      },
      "source": [
        "with open('terrain.txt','r') as terrain_file:\n",
        "  terrain = [list(line.rstrip()) for line in terrain_file]\n",
        "  print('\\n'.join([''.join([c for c in row]) for row in terrain]))"
      ],
      "execution_count": null,
      "outputs": [
        {
          "output_type": "stream",
          "text": [
            "🌿🌿🌿🌿🌿🌼🌿🌼🌼🌿🌿🌿\n",
            "🌿🌿🌿🌿🌿🌼🌿🌼🌼🌿🌿🌿\n",
            "🌿🌿🌿🌿🌿🌿🌼🌿🌿🌿🌿🌿\n",
            "🌿🌿🌿🔥🔥🔥🔥🔥🌉🔥🔥🔥\n",
            "🔥🔥🔥🔥🔥🔥🔥🔥🌉🔥🔥🔥\n",
            "🔥🔥🔥🔥🔥🔥🔥🔥🌉🔥🔥🔥\n",
            "🔥🔥🔥🔥🔥🔥🔥🔥🌉🔥🔥🔥\n",
            "🔥🔥🔥🔥🔥🔥🔥🔥🌉🔥🔥🔥\n",
            "🔥🔥🔥🔥🔥🔥🔥🔥🌉🔥🔥🔥\n",
            "🌿🌿🌿🌲🌿🌿🌿🌿🌿🌼🌲🌲\n"
          ],
          "name": "stdout"
        }
      ]
    },
    {
      "cell_type": "markdown",
      "metadata": {
        "id": "y25uksqYL6ED",
        "colab_type": "text"
      },
      "source": [
        "The indexing on terrain is `terrain[y][x]`.\n",
        "\n",
        "Now we will implement a `find_neighbors` function.  find_neighbors should take in the curent position (a tuple of `(x,y)`) and the terrain.  It will output a list `[]` of all of the neighbors (tuples of `((x,y), cost)`) the costs are as follows:\n",
        "🌿 = 1\n",
        "🌼 = 2\n",
        "🌉 = 1\n",
        "🔥 = 5\n",
        "🌲 = 1\n",
        "\n",
        "i.e., we are fine walking on grass, bridges, and trees, but would prefer to avoid flowers, and really don't want to swim in lava.\n",
        "\n",
        "Note: this is assuming a neighborhood of:\n",
        "\n",
        "🌿🌿🌿\n",
        "\n",
        "🌿😀🌿\n",
        "\n",
        "🌿🌿🌿\n",
        "\n",
        "not\n",
        "\n",
        "  🌿 \n",
        "  \n",
        "🌿😀🌿\n",
        "\n",
        "  🌿 \n",
        "\n"
      ]
    },
    {
      "cell_type": "markdown",
      "metadata": {
        "id": "nIdCzvWuXU08",
        "colab_type": "text"
      },
      "source": [
        "#Step 1 (20 points)\n",
        "* Implement the `find_neighbors` function\n",
        "* It takes in the `current_position` and the `terrain` and returns a list of all locations that are within 1 space \n",
        "* For each space it returns the associated cost to move into that space -- the penalty for a movement is incurred when going IN to the space (so if you are on a 🌿 going to a 🌼 then the cost is 2, if you are on a 🌼 going to a 🌿 then the cost is 1)\n",
        "\n",
        "* Implement the `is_goal` function that returns `True` if the occupied space is the goal, and `False` otherwise"
      ]
    },
    {
      "cell_type": "code",
      "metadata": {
        "id": "xF1i7QBNL6ED",
        "colab_type": "code",
        "colab": {}
      },
      "source": [
        "from typing import NamedTuple, Dict, Tuple, Optional, Sequence, List\n",
        "\n",
        "def find_neighbors(current_position: Tuple[int,int],terrain :List[List[str]]) -> List[Tuple[Tuple[int,int],float]]:\n",
        "    neighbors = []\n",
        "    #Fill this in\n",
        "    return neighbors\n",
        "\n",
        "    \n",
        "def is_goal(current_position: Tuple[int,int],terrain :List[List[str]]) -> bool:\n",
        "    goal = False\n",
        "    #Fill this in\n",
        "    if terrain[current_position[0]][current_position[1]] == '🌲':\n",
        "    \treturn True\n",
        "    return goal"
      ],
      "execution_count": 1,
      "outputs": []
    },
    {
      "cell_type": "markdown",
      "metadata": {
        "id": "m_RXy4CkL6EF",
        "colab_type": "text"
      },
      "source": [
        "\n",
        "Now, we want to find the heuristic cost for a given location on the terrain.  The heuristic cost you should use is:\n",
        "\n",
        "Find the Euclidean distance to the nearest 🌲 -- e.g. if the tree is at (x',y') and the given location is (x,y) the heuristic distance is $\\sqrt{(y-y')^2 + (x-x')^2}$\n",
        "# Step 2 (15 points)\n",
        "* Fill in the heuristic function\n",
        "* It should return the Euclidean distance to the CLOSEST tree, not just any tree"
      ]
    },
    {
      "cell_type": "code",
      "metadata": {
        "id": "TfjCkraTL6EG",
        "colab_type": "code",
        "colab": {}
      },
      "source": [
        "def get_heuristic(position : Tuple[int,int],terrain:List[List[str]]) -> float:\n",
        "    min_distance = 0\n",
        "    #fill this in\n",
        "    return min_distance\n",
        "            "
      ],
      "execution_count": null,
      "outputs": []
    },
    {
      "cell_type": "markdown",
      "metadata": {
        "id": "nA-Qn4w8L6EH",
        "colab_type": "text"
      },
      "source": [
        "Finally, here is a helper class -- `PriorityQueue` -- and a helper function `pretty_print_path` that takes in the path (a list of position (x,y) tuples) and outputs a pretty string with emoji showing the path through the terrain\n",
        "\n",
        "To use the priority queue, you must first instantiate it, then use `put` to add things in and `get` to retrieve them"
      ]
    },
    {
      "cell_type": "code",
      "metadata": {
        "id": "AxANAE11L6EH",
        "colab_type": "code",
        "colab": {}
      },
      "source": [
        "import heapq\n",
        "\n",
        "class PriorityQueue:\n",
        "    def __init__(self):\n",
        "        self.elements = []\n",
        "    \n",
        "    def empty(self):\n",
        "        return len(self.elements) == 0\n",
        "    \n",
        "    def put(self, item, priority : float):\n",
        "        heapq.heappush(self.elements, (priority, item))\n",
        "    \n",
        "    def get(self):\n",
        "        return heapq.heappop(self.elements)[1]\n",
        "    \n",
        "def pretty_print_path(path : List[Tuple[int,int]], terrain :List[List[str]]):\n",
        "        \n",
        "    emojis = ['😀','😁','😂','🤣','😃','😄','😅','😆','😉','😊','😋']\n",
        "    \n",
        "    path2len = {location:distance for distance,location in enumerate(path)}\n",
        "    output = []\n",
        "    for yy,row in enumerate(terrain):\n",
        "        row_str = ''\n",
        "        for xx, cur in enumerate(row):\n",
        "            if (xx,yy) in path2len:\n",
        "                row_str += emojis[path2len[(xx,yy)] % len(emojis)]\n",
        "            else:\n",
        "                row_str += cur\n",
        "        output.append(row_str)\n",
        "    return '\\n'.join(output)"
      ],
      "execution_count": null,
      "outputs": []
    },
    {
      "cell_type": "markdown",
      "metadata": {
        "id": "3g4DSeQ-L6EJ",
        "colab_type": "text"
      },
      "source": [
        "#STEP 3 (Dijkstra's -- 25 points -- A* -- 40 points)\n",
        "* Implement both Dijkstra's and A*\n",
        "* The functions should use the early stopping criteria -- but make sure you stop at the right point\n",
        "* If no path can be found, then you should return an empty list\n",
        "* If a path is found, then you should return a list of tuples of ints \n",
        "* The returned path should be in the correct order (start to finish)\n",
        "\n",
        "You should verify a few things\n",
        "\n",
        "1) Your results for Dijkstra's and A* should be the same\n",
        "\n",
        "2) If you run A\\* with a heuristic of  lambda pos: 0, then your Dijkstra's implementation should visit things in the same order as your A\\*\n",
        "\n",
        "3) A* should likely visit fewer nodes than Dijkstra's"
      ]
    },
    {
      "cell_type": "code",
      "metadata": {
        "id": "kRPyL070L6EJ",
        "colab_type": "code",
        "colab": {}
      },
      "source": [
        "def dijkstras(initial_position : Tuple[int,int], world : List[List[str]],get_neighbors , is_goal) -> List[Tuple[int,int]]:\n",
        "    return []\n",
        "\n",
        "def a_star(initial_position,world,get_neighbors,is_goal,heuristic):\n",
        "    return []\n",
        "        \n",
        "    "
      ],
      "execution_count": null,
      "outputs": []
    },
    {
      "cell_type": "markdown",
      "metadata": {
        "id": "iPizi3UgL6EK",
        "colab_type": "text"
      },
      "source": [
        "Your final output -- after pretty printing your paths should look like:\n",
        "    \n",
        "😀🌿🌿🌿🌿🌼🌿🌼🌼🌿🌿🌿\n",
        "\n",
        "🌿😁🌿🌿🌿🌼😅🌼🌼🌿🌿🌿\n",
        "\n",
        "🌿🌿😂🤣😃😄🌼😆🌿🌿🌿🌿\n",
        "\n",
        "🌿🌿🌿🌊🌊🌊🌊🌊😉🌊🌊🌊\n",
        "\n",
        "🌊🌊🌊🌊🌊🌊🌊🌊😊🌊🌊🌊\n",
        "\n",
        "🌊🌊🌊🌊🌊🌊🌊🌊😋🌊🌊🌊\n",
        "\n",
        "🌊🌊🌊🌊🌊🌊🌊🌊😀🌊🌊🌊\n",
        "\n",
        "🌊🌊🌊🌊🌊🌊🌊🌊😁🌊🌊🌊\n",
        "\n",
        "🌊🌊🌊🌊🌊🌊🌊🌊😂🌊🌊🌊\n",
        "\n",
        "🌿🌿🌿🌲🌿🌿🌿🌿🌿🤣😃🌲"
      ]
    },
    {
      "cell_type": "code",
      "metadata": {
        "id": "81z2Z4G2VqaE",
        "colab_type": "code",
        "colab": {
          "base_uri": "https://localhost:8080/",
          "height": 386
        },
        "outputId": "fec4e1bd-76fa-4842-ba7b-98afa689b261"
      },
      "source": [
        "dijkstra_path = dijkstras((0,0), terrain, find_neighbors, is_goal )\n",
        "print('Dijkstras')\n",
        "print(pretty_print_path(dijkstra_path, terrain))\n",
        "\n",
        "a_star_path = a_star((0,0), terrain, find_neighbors, is_goal, )\n",
        "print('A*')\n",
        "print(pretty_print_path(a_star_path, terrain))"
      ],
      "execution_count": null,
      "outputs": [
        {
          "output_type": "stream",
          "text": [
            "Dijkstras\n",
            "🌿🌿🌿🌿🌿🌼🌿🌼🌼🌿🌿🌿\n",
            "🌿🌿🌿🌿🌿🌼🌿🌼🌼🌿🌿🌿\n",
            "🌿🌿🌿🌿🌿🌿🌼🌿🌿🌿🌿🌿\n",
            "🌿🌿🌿🔥🔥🔥🔥🔥🌉🔥🔥🔥\n",
            "🔥🔥🔥🔥🔥🔥🔥🔥🌉🔥🔥🔥\n",
            "🔥🔥🔥🔥🔥🔥🔥🔥🌉🔥🔥🔥\n",
            "🔥🔥🔥🔥🔥🔥🔥🔥🌉🔥🔥🔥\n",
            "🔥🔥🔥🔥🔥🔥🔥🔥🌉🔥🔥🔥\n",
            "🔥🔥🔥🔥🔥🔥🔥🔥🌉🔥🔥🔥\n",
            "🌿🌿🌿🌲🌿🌿🌿🌿🌿🌼🌲🌲\n",
            "A*\n",
            "🌿🌿🌿🌿🌿🌼🌿🌼🌼🌿🌿🌿\n",
            "🌿🌿🌿🌿🌿🌼🌿🌼🌼🌿🌿🌿\n",
            "🌿🌿🌿🌿🌿🌿🌼🌿🌿🌿🌿🌿\n",
            "🌿🌿🌿🔥🔥🔥🔥🔥🌉🔥🔥🔥\n",
            "🔥🔥🔥🔥🔥🔥🔥🔥🌉🔥🔥🔥\n",
            "🔥🔥🔥🔥🔥🔥🔥🔥🌉🔥🔥🔥\n",
            "🔥🔥🔥🔥🔥🔥🔥🔥🌉🔥🔥🔥\n",
            "🔥🔥🔥🔥🔥🔥🔥🔥🌉🔥🔥🔥\n",
            "🔥🔥🔥🔥🔥🔥🔥🔥🌉🔥🔥🔥\n",
            "🌿🌿🌿🌲🌿🌿🌿🌿🌿🌼🌲🌲\n"
          ],
          "name": "stdout"
        }
      ]
    },
    {
      "cell_type": "markdown",
      "metadata": {
        "id": "i8ISQqAebZIV",
        "colab_type": "text"
      },
      "source": [
        "#Bonus!\n",
        "\n",
        "* Make a new map that is either fun in some special way, or has a somewhat surprising best path (1 pt)\n",
        "* Modify the terrain to have a new terrain type with a different cost (2 pts)"
      ]
    },
    {
      "cell_type": "code",
      "metadata": {
        "id": "VO3sln0SbGW4",
        "colab_type": "code",
        "colab": {}
      },
      "source": [
        ""
      ],
      "execution_count": null,
      "outputs": []
    }
  ]
}